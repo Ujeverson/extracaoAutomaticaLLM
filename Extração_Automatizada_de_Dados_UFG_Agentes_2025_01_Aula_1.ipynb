{
  "cells": [
    {
      "cell_type": "markdown",
      "metadata": {
        "id": "Wf49sq3L-PAR"
      },
      "source": [
        "## Extração Automatizada de Dados - Agentes Inteligentes INF/UFG\n",
        "### Prof. Otávio Calaça Xavier\n",
        "----\n",
        "\n",
        "## Protocolo HTTP"
      ]
    },
    {
      "cell_type": "markdown",
      "metadata": {
        "id": "XKWg0Xhh-m4P"
      },
      "source": [
        "### Exemplo 1: Requisição GET e Inspeção de Cabeçalhos\n",
        "\n",
        "**Objetivo:**  \n",
        "Mostrar como enviar uma requisição HTTP utilizando a biblioteca `requests`, inspecionar o código de status e visualizar cabeçalhos relevantes da resposta.\n",
        "\n",
        "**Descrição:**  \n",
        "1. Importar a biblioteca `requests`.  \n",
        "2. Definir uma URL pública (por exemplo: `https://httpbin.org/get`).  \n",
        "3. Enviar a requisição GET.  \n",
        "4. Exibir o código de status e os cabeçalhos `Content-Type` e `Server`.  \n",
        "5. Exibir o corpo da resposta para demonstrar como inspecionar conteúdo bruto.\n"
      ]
    },
    {
      "cell_type": "code",
      "execution_count": null,
      "metadata": {
        "colab": {
          "base_uri": "https://localhost:8080/"
        },
        "id": "LEu_cNBY-ltf",
        "outputId": "56e0762a-03b9-401d-d98d-d84412cd4b93"
      },
      "outputs": [
        {
          "name": "stdout",
          "output_type": "stream",
          "text": [
            "Código de Status: 200\n",
            "Content-Type: application/json\n",
            "Server: gunicorn/19.9.0\n",
            "-- Início do corpo da resposta --\n",
            "{\n",
            "  \"args\": {}, \n",
            "  \"headers\": {\n",
            "    \"Accept\": \"*/*\", \n",
            "    \"Accept-Encoding\": \"gzip, deflate\", \n",
            "    \"Host\": \"httpbin.org\", \n",
            "    \"User-Agent\": \"python-requests/2.32.3\", \n",
            "    \"X-Amzn-Trace-Id\": \"Root=1-68437ff6-2e7b52532539c1f72615050d\"\n",
            "  }, \n",
            "  \"origin\": \"38.50.159.222\", \n",
            "  \"url\": \"https://httpbin.org/get\"\n",
            "}\n",
            "\n",
            "-- Fim da pré-visualização --\n"
          ]
        }
      ],
      "source": [
        "import requests\n",
        "\n",
        "# 1. Definição da URL de destino\n",
        "url = \"https://httpbin.org/get\"\n",
        "\n",
        "# 2. Envio da requisição GET\n",
        "response = requests.get(url)\n",
        "\n",
        "# 3. Inspeção do código de status\n",
        "print(\"Código de Status:\", response.status_code)\n",
        "\n",
        "# 4. Exibição de cabeçalhos específicos\n",
        "print(\"Content-Type:\", response.headers.get(\"Content-Type\"))\n",
        "print(\"Server:\", response.headers.get(\"Server\"))\n",
        "\n",
        "# 5. Exibição de parte do corpo da resposta\n",
        "print(\"-- Início do corpo da resposta --\")\n",
        "print(response.text)\n",
        "print(\"-- Fim da pré-visualização --\")"
      ]
    },
    {
      "cell_type": "markdown",
      "metadata": {
        "id": "yJBnDa9V_D2V"
      },
      "source": [
        "### Exemplo 2: Download e Leitura de Arquivo CSV via HTTP\n",
        "\n",
        "**Objetivo:**  \n",
        "Realizar download de um arquivo CSV disponível na web, ler seu conteúdo com `pandas` e exibir uma amostra dos dados.\n",
        "\n",
        "**Descrição:**  \n",
        "1. Importe as bibliotecas `requests` e `pandas`.  \n",
        "2. Defina a URL de um CSV público (por exemplo: https://people.sc.fsu.edu/~jburkardt/data/csv/airtravel.csv)\n",
        "\n",
        "3. Envie uma requisição GET para obter o conteúdo bruto do CSV.  \n",
        "4. Crie um `DataFrame` do pandas usando `pd.read_csv()` diretamente a partir de `io.StringIO(response.text)` para converter o texto em formato tabelar.  \n",
        "5. Exiba no console:  \n",
        "- As primeiras cinco linhas do `DataFrame` (`df.head()`).  \n",
        "- Informações gerais do `DataFrame` (número de linhas, colunas e tipos de dados) usando `df.info()`.  \n",
        "6. Opcional: salve o conteúdo em um arquivo local chamado `airtravel.csv`"
      ]
    },
    {
      "cell_type": "code",
      "execution_count": null,
      "metadata": {
        "colab": {
          "base_uri": "https://localhost:8080/"
        },
        "id": "EtI1adKbAPFU",
        "outputId": "8e012113-9d3e-4d57-ccc4-fadd8715a505"
      },
      "outputs": [
        {
          "name": "stdout",
          "output_type": "stream",
          "text": [
            "Download bem-sucedido do CSV.\n",
            "\n",
            "Amostra dos dados (primeiras 5 linhas):\n",
            "               NMU   ANO   REM   RAP   RAE   RCO   RCC  RME   RMI   RSE  RSI\n",
            "0  Abadia de Goiás  2010   937   820   825   853  1065    0   957  1100    0\n",
            "1  Abadia de Goiás  2011   999   980   964   761  1119    0  1058  1117    0\n",
            "2  Abadia de Goiás  2012  1166   951  1165  1181  1378    0  1358  1033    0\n",
            "3  Abadia de Goiás  2013  1457  1548  1306  1398  1468    0  1388  1557    0\n",
            "4  Abadia de Goiás  2014  1738  1725  1299  2264  1511  800  1453  1608    0\n",
            "\n",
            "Informações do DataFrame:\n",
            "<class 'pandas.core.frame.DataFrame'>\n",
            "RangeIndex: 2706 entries, 0 to 2705\n",
            "Data columns (total 11 columns):\n",
            " #   Column  Non-Null Count  Dtype \n",
            "---  ------  --------------  ----- \n",
            " 0   NMU     2706 non-null   object\n",
            " 1   ANO     2706 non-null   int64 \n",
            " 2   REM     2706 non-null   int64 \n",
            " 3   RAP     2706 non-null   int64 \n",
            " 4   RAE     2706 non-null   int64 \n",
            " 5   RCO     2706 non-null   int64 \n",
            " 6   RCC     2706 non-null   int64 \n",
            " 7   RME     2706 non-null   int64 \n",
            " 8   RMI     2706 non-null   int64 \n",
            " 9   RSE     2706 non-null   int64 \n",
            " 10  RSI     2706 non-null   int64 \n",
            "dtypes: int64(10), object(1)\n",
            "memory usage: 232.7+ KB\n",
            "None\n",
            "\n",
            "Arquivo 'rendimento_muni_2010_2020.csv' salvo no ambiente do Colab.\n"
          ]
        }
      ],
      "source": [
        "import requests\n",
        "import pandas as pd\n",
        "import io\n",
        "\n",
        "# 1. Definição da URL do CSV\n",
        "csv_url = \"https://raw.githubusercontent.com/Ujeverson/educacao_economia/refs/heads/main/rendimento_muni_2010_2020.csv\"\n",
        "\n",
        "# 2. Download do conteúdo CSV\n",
        "response = requests.get(csv_url)\n",
        "if response.status_code == 200:\n",
        " print(\"Download bem-sucedido do CSV.\\n\")\n",
        "else:\n",
        " raise Exception(f\"Falha ao baixar CSV. Código: {response.status_code}\")\n",
        "\n",
        "# 3. Leitura do CSV com pandas\n",
        "# Convertemos o texto em StringIO para simular um arquivo em memória\n",
        "csv_buffer = io.StringIO(response.text)\n",
        "df = pd.read_csv(csv_buffer)\n",
        "\n",
        "# 4. Exibição das primeiras 5 linhas\n",
        "print(\"Amostra dos dados (primeiras 5 linhas):\")\n",
        "print(df.head())\n",
        "\n",
        "# 5. Informações gerais do DataFrame\n",
        "print(\"\\nInformações do DataFrame:\")\n",
        "print(df.info())\n",
        "\n",
        "# 6. Salvando localmente (opcional)\n",
        "with open(\"rendimento_muni_2010_2020.csv\", \"w\", encoding=\"utf-8\") as f:\n",
        " f.write(response.text)\n",
        "print(\"\\nArquivo 'rendimento_muni_2010_2020.csv' salvo no ambiente do Colab.\")"
      ]
    },
    {
      "cell_type": "code",
      "execution_count": null,
      "metadata": {
        "colab": {
          "base_uri": "https://localhost:8080/",
          "height": 425
        },
        "id": "hky0R6KueB0m",
        "outputId": "fe590d6e-7528-4c80-951c-6abd2772f48b"
      },
      "outputs": [
        {
          "data": {
            "text/html": [
              "<div>\n",
              "<style scoped>\n",
              "    .dataframe tbody tr th:only-of-type {\n",
              "        vertical-align: middle;\n",
              "    }\n",
              "\n",
              "    .dataframe tbody tr th {\n",
              "        vertical-align: top;\n",
              "    }\n",
              "\n",
              "    .dataframe thead th {\n",
              "        text-align: right;\n",
              "    }\n",
              "</style>\n",
              "<table border=\"1\" class=\"dataframe\">\n",
              "  <thead>\n",
              "    <tr style=\"text-align: right;\">\n",
              "      <th></th>\n",
              "      <th>NMU</th>\n",
              "      <th>ANO</th>\n",
              "      <th>REM</th>\n",
              "      <th>RAP</th>\n",
              "      <th>RAE</th>\n",
              "      <th>RCO</th>\n",
              "      <th>RCC</th>\n",
              "      <th>RME</th>\n",
              "      <th>RMI</th>\n",
              "      <th>RSE</th>\n",
              "      <th>RSI</th>\n",
              "    </tr>\n",
              "  </thead>\n",
              "  <tbody>\n",
              "    <tr>\n",
              "      <th>0</th>\n",
              "      <td>Abadia de Goiás</td>\n",
              "      <td>2010</td>\n",
              "      <td>937</td>\n",
              "      <td>820</td>\n",
              "      <td>825</td>\n",
              "      <td>853</td>\n",
              "      <td>1065</td>\n",
              "      <td>0</td>\n",
              "      <td>957</td>\n",
              "      <td>1100</td>\n",
              "      <td>0</td>\n",
              "    </tr>\n",
              "    <tr>\n",
              "      <th>1</th>\n",
              "      <td>Abadia de Goiás</td>\n",
              "      <td>2011</td>\n",
              "      <td>999</td>\n",
              "      <td>980</td>\n",
              "      <td>964</td>\n",
              "      <td>761</td>\n",
              "      <td>1119</td>\n",
              "      <td>0</td>\n",
              "      <td>1058</td>\n",
              "      <td>1117</td>\n",
              "      <td>0</td>\n",
              "    </tr>\n",
              "    <tr>\n",
              "      <th>2</th>\n",
              "      <td>Abadia de Goiás</td>\n",
              "      <td>2012</td>\n",
              "      <td>1166</td>\n",
              "      <td>951</td>\n",
              "      <td>1165</td>\n",
              "      <td>1181</td>\n",
              "      <td>1378</td>\n",
              "      <td>0</td>\n",
              "      <td>1358</td>\n",
              "      <td>1033</td>\n",
              "      <td>0</td>\n",
              "    </tr>\n",
              "    <tr>\n",
              "      <th>3</th>\n",
              "      <td>Abadia de Goiás</td>\n",
              "      <td>2013</td>\n",
              "      <td>1457</td>\n",
              "      <td>1548</td>\n",
              "      <td>1306</td>\n",
              "      <td>1398</td>\n",
              "      <td>1468</td>\n",
              "      <td>0</td>\n",
              "      <td>1388</td>\n",
              "      <td>1557</td>\n",
              "      <td>0</td>\n",
              "    </tr>\n",
              "    <tr>\n",
              "      <th>4</th>\n",
              "      <td>Abadia de Goiás</td>\n",
              "      <td>2014</td>\n",
              "      <td>1738</td>\n",
              "      <td>1725</td>\n",
              "      <td>1299</td>\n",
              "      <td>2264</td>\n",
              "      <td>1511</td>\n",
              "      <td>800</td>\n",
              "      <td>1453</td>\n",
              "      <td>1608</td>\n",
              "      <td>0</td>\n",
              "    </tr>\n",
              "    <tr>\n",
              "      <th>...</th>\n",
              "      <td>...</td>\n",
              "      <td>...</td>\n",
              "      <td>...</td>\n",
              "      <td>...</td>\n",
              "      <td>...</td>\n",
              "      <td>...</td>\n",
              "      <td>...</td>\n",
              "      <td>...</td>\n",
              "      <td>...</td>\n",
              "      <td>...</td>\n",
              "      <td>...</td>\n",
              "    </tr>\n",
              "    <tr>\n",
              "      <th>2701</th>\n",
              "      <td>Águas Lindas de Goiás</td>\n",
              "      <td>2016</td>\n",
              "      <td>1413</td>\n",
              "      <td>1452</td>\n",
              "      <td>1172</td>\n",
              "      <td>1255</td>\n",
              "      <td>1264</td>\n",
              "      <td>0</td>\n",
              "      <td>1473</td>\n",
              "      <td>1513</td>\n",
              "      <td>983</td>\n",
              "    </tr>\n",
              "    <tr>\n",
              "      <th>2702</th>\n",
              "      <td>Águas Lindas de Goiás</td>\n",
              "      <td>2017</td>\n",
              "      <td>1592</td>\n",
              "      <td>1714</td>\n",
              "      <td>1257</td>\n",
              "      <td>1383</td>\n",
              "      <td>1794</td>\n",
              "      <td>0</td>\n",
              "      <td>1576</td>\n",
              "      <td>1541</td>\n",
              "      <td>7499</td>\n",
              "    </tr>\n",
              "    <tr>\n",
              "      <th>2703</th>\n",
              "      <td>Águas Lindas de Goiás</td>\n",
              "      <td>2018</td>\n",
              "      <td>1799</td>\n",
              "      <td>2598</td>\n",
              "      <td>1184</td>\n",
              "      <td>1405</td>\n",
              "      <td>1145</td>\n",
              "      <td>0</td>\n",
              "      <td>1442</td>\n",
              "      <td>1540</td>\n",
              "      <td>11687</td>\n",
              "    </tr>\n",
              "    <tr>\n",
              "      <th>2704</th>\n",
              "      <td>Águas Lindas de Goiás</td>\n",
              "      <td>2019</td>\n",
              "      <td>1861</td>\n",
              "      <td>2833</td>\n",
              "      <td>1280</td>\n",
              "      <td>1429</td>\n",
              "      <td>1331</td>\n",
              "      <td>0</td>\n",
              "      <td>1361</td>\n",
              "      <td>1596</td>\n",
              "      <td>5552</td>\n",
              "    </tr>\n",
              "    <tr>\n",
              "      <th>2705</th>\n",
              "      <td>Águas Lindas de Goiás</td>\n",
              "      <td>2020</td>\n",
              "      <td>1885</td>\n",
              "      <td>3275</td>\n",
              "      <td>1294</td>\n",
              "      <td>1437</td>\n",
              "      <td>654</td>\n",
              "      <td>0</td>\n",
              "      <td>1239</td>\n",
              "      <td>1452</td>\n",
              "      <td>3793</td>\n",
              "    </tr>\n",
              "  </tbody>\n",
              "</table>\n",
              "<p>2706 rows × 11 columns</p>\n",
              "</div>"
            ],
            "text/plain": [
              "                        NMU   ANO   REM   RAP   RAE   RCO   RCC  RME   RMI  \\\n",
              "0           Abadia de Goiás  2010   937   820   825   853  1065    0   957   \n",
              "1           Abadia de Goiás  2011   999   980   964   761  1119    0  1058   \n",
              "2           Abadia de Goiás  2012  1166   951  1165  1181  1378    0  1358   \n",
              "3           Abadia de Goiás  2013  1457  1548  1306  1398  1468    0  1388   \n",
              "4           Abadia de Goiás  2014  1738  1725  1299  2264  1511  800  1453   \n",
              "...                     ...   ...   ...   ...   ...   ...   ...  ...   ...   \n",
              "2701  Águas Lindas de Goiás  2016  1413  1452  1172  1255  1264    0  1473   \n",
              "2702  Águas Lindas de Goiás  2017  1592  1714  1257  1383  1794    0  1576   \n",
              "2703  Águas Lindas de Goiás  2018  1799  2598  1184  1405  1145    0  1442   \n",
              "2704  Águas Lindas de Goiás  2019  1861  2833  1280  1429  1331    0  1361   \n",
              "2705  Águas Lindas de Goiás  2020  1885  3275  1294  1437   654    0  1239   \n",
              "\n",
              "       RSE    RSI  \n",
              "0     1100      0  \n",
              "1     1117      0  \n",
              "2     1033      0  \n",
              "3     1557      0  \n",
              "4     1608      0  \n",
              "...    ...    ...  \n",
              "2701  1513    983  \n",
              "2702  1541   7499  \n",
              "2703  1540  11687  \n",
              "2704  1596   5552  \n",
              "2705  1452   3793  \n",
              "\n",
              "[2706 rows x 11 columns]"
            ]
          },
          "execution_count": 3,
          "metadata": {},
          "output_type": "execute_result"
        }
      ],
      "source": [
        "df"
      ]
    },
    {
      "cell_type": "markdown",
      "metadata": {
        "id": "WD0IZHLBBIV7"
      },
      "source": [
        "### Exemplo 3: Requisição POST com Parâmetros\n",
        "\n",
        "**Objetivo:**  \n",
        "Enviar uma requisição HTTP POST com parâmetros (form‐data), configurar cabeçalhos personalizados e processar a resposta em JSON.\n",
        "\n",
        "**Descrição:**  \n",
        "1. Importe a biblioteca `requests`.  \n",
        "2. Defina a URL de teste para POST: https://httpbin.org/post\n",
        "\n",
        "3. Prepare um dicionário `data` contendo parâmetros de formulário, por exemplo:  \n",
        "```python\n",
        "data = {\n",
        "    \"usuario\": \"<seu nome>\",\n",
        "    \"disciplina\": \"Extração Automatizada de Dados\"\n",
        "}\n",
        "```\n",
        "4. Crie um dicionário headers com um User-Agent e indicando que enviará form‐data:\n",
        "```python\n",
        "headers = {\n",
        "    \"User-Agent\": \"Notebook-Colab/1.0\",\n",
        "    \"Content-Type\": \"application/x-www-form-urlencoded\"\n",
        "}\n",
        "```\n",
        "5. Envie a requisição POST usando requests.post(url, data=data, headers=headers).\n",
        "\n",
        "6. Verifique se o código de status é 200. Em seguida, chame response.json() para converter a resposta em dicionário Python.\n",
        "\n",
        "7. Exiba no console, de forma organizada:\n",
        "\n",
        "  - O código de status (response.status_code).\n",
        "\n",
        "  - O campo \"form\" retornado (com os dados enviados).\n",
        "\n",
        "  - O campo \"headers\" retornado (para confirmar envio correto).\n",
        "\n",
        "  - O campo \"url\" (confirmando que é o endpoint de POST)."
      ]
    },
    {
      "cell_type": "code",
      "execution_count": null,
      "metadata": {
        "colab": {
          "base_uri": "https://localhost:8080/",
          "height": 1000
        },
        "id": "hUa2FJNuATJb",
        "outputId": "b8e7a9ac-ae15-4da4-b592-02444bb507a2"
      },
      "outputs": [
        {
          "name": "stdout",
          "output_type": "stream",
          "text": [
            "Código de Status: 200\n",
            "\n",
            "Dados recebidos no campo 'form':\n",
            "{\n",
            "  \"disciplina\": \"Extração Automatizada de Dados\",\n",
            "  \"email\": \"ujeverson@gmail.com\",\n",
            "  \"usuario\": \"Ujeverson\"\n",
            "}\n",
            "\n",
            "Cabeçalhos retornados pelo servidor:\n",
            "{\n",
            "  \"Accept\": \"*/*\",\n",
            "  \"Accept-Encoding\": \"gzip, deflate\",\n",
            "  \"Content-Length\": \"97\",\n",
            "  \"Content-Type\": \"application/x-www-form-urlencoded\",\n",
            "  \"Host\": \"httpbin.org\",\n",
            "  \"User-Agent\": \"Notebook-Colab/1.0\",\n",
            "  \"X-Amzn-Trace-Id\": \"Root=1-6843834c-262f1c6f7088244f420b22d2\"\n",
            "}\n",
            "\n",
            "URL de destino usada:\n",
            "https://httpbin.org/post\n"
          ]
        }
      ],
      "source": [
        "import requests\n",
        "import json\n",
        "\n",
        "# 1. Definição da URL para requisição POST\n",
        "url = \"https://httpbin.org/post\"  # Corrigido para endpoint de teste\n",
        "\n",
        "# 2. Parâmetros de formulário (form-data)\n",
        "data = {\n",
        "    \"usuario\": \"Ujeverson\",\n",
        "    \"email\": \"ujeverson@gmail.com\",\n",
        "    \"disciplina\": \"Extração Automatizada de Dados\"\n",
        "}\n",
        "\n",
        "# 3. Cabeçalhos personalizados\n",
        "headers = {\n",
        "    \"User-Agent\": \"Notebook-Colab/1.0\",\n",
        "    \"Content-Type\": \"application/x-www-form-urlencoded\"\n",
        "}\n",
        "\n",
        "# 4. Envio da requisição POST\n",
        "response = requests.post(url, data=data, headers=headers)\n",
        "\n",
        "# 5. Verificação do código de status\n",
        "print(\"Código de Status:\", response.status_code)\n",
        "\n",
        "# 6. Conversão para JSON (com tratamento de erro)\n",
        "try:\n",
        "    resposta_json = response.json()\n",
        "except Exception as e:\n",
        "    print(\"Erro ao converter resposta para JSON:\", e)\n",
        "    print(\"Conteúdo retornado:\", response.text)\n",
        "else:\n",
        "    # 7. Exibição dos campos relevantes\n",
        "    print(\"\\nDados recebidos no campo 'form':\")\n",
        "    print(json.dumps(resposta_json.get(\"form\"), indent=2, ensure_ascii=False))\n",
        "\n",
        "    print(\"\\nCabeçalhos retornados pelo servidor:\")\n",
        "    print(json.dumps(resposta_json.get(\"headers\"), indent=2, ensure_ascii=False))\n",
        "\n",
        "    print(\"\\nURL de destino usada:\")\n",
        "    print(resposta_json.get(\"url\"))"
      ]
    },
    {
      "cell_type": "markdown",
      "metadata": {
        "id": "ebAMj5bpCXpS"
      },
      "source": [
        "### Exercício 1: Consumir API REST com Parâmetros e Autenticação Básica  \n",
        "1. Utilize a biblioteca `requests` para enviar uma requisição GET a uma API pública que exija autenticação básica (por exemplo, `https://httpbin.org/basic-auth/usuario/senha`).  \n",
        "2. Configure os parâmetros de autenticação (`auth=(“usuario”, “senha”)`) e verifique se o retorno é código 200.  \n",
        "3. Extrai e exibe no console o campo `\"authenticated\"` do JSON retornado para confirmar o sucesso da autenticação.\n"
      ]
    },
    {
      "cell_type": "code",
      "execution_count": null,
      "metadata": {
        "id": "j6teZY8-CcnC",
        "colab": {
          "base_uri": "https://localhost:8080/"
        },
        "outputId": "1e47836d-b853-48b6-fb0e-146a6ff7147e"
      },
      "outputs": [
        {
          "output_type": "stream",
          "name": "stdout",
          "text": [
            "Código de Status: 200\n",
            "Autenticado: True\n"
          ]
        }
      ],
      "source": [
        "import requests\n",
        "\n",
        "#enviando requisição GET a uma API\n",
        "url = \"https://httpbin.org/basic-auth/ujeverson/admin123\"\n",
        "response = requests.get(url, auth=(\"ujeverson\", \"admin123\"))\n",
        "\n",
        "# 5. Verificação do código de status\n",
        "print(\"Código de Status:\", response.status_code)\n",
        "\n",
        "if response.status_code == 200:\n",
        "    try:\n",
        "        resposta_json = response.json()\n",
        "        print(\"Autenticado:\", resposta_json.get(\"authenticated\"))\n",
        "    except Exception as e:\n",
        "        print(\"Erro ao converter resposta para JSON:\", e)\n",
        "        print(\"Conteúdo retornado:\", response.text)\n",
        "else:\n",
        "    print(\"Autenticação falhou.\")"
      ]
    },
    {
      "cell_type": "markdown",
      "metadata": {
        "id": "6TjLmeESCib7"
      },
      "source": [
        "### Exercício 2: Paginação em API e Agregação de Resultados  \n",
        "1. Identifique uma API que retorne resultados paginados (por exemplo, `https://jsonplaceholder.typicode.com/comments?_page=1&_limit=20`).  \n",
        "2. Usando `requests`, faça requisições sucessivas para obter as N (a ser informado) primeiras páginas de comentários.\n",
        "3. Concatene todos os itens retornados das páginas em uma única lista Python e exiba a quantidade total de itens agregados.\n"
      ]
    },
    {
      "cell_type": "code",
      "execution_count": null,
      "metadata": {
        "id": "WgnPiV9FCxhD",
        "colab": {
          "base_uri": "https://localhost:8080/"
        },
        "outputId": "596bb583-331f-4de4-8c3d-66b3bb63c8cc"
      },
      "outputs": [
        {
          "output_type": "stream",
          "name": "stdout",
          "text": [
            "Buscando 3 páginas de comentários...\n",
            "Buscando página 1...\n",
            "Página 1 baixada com sucesso. Total de comentários agregados até agora: 20\n",
            "Buscando página 2...\n",
            "Página 2 baixada com sucesso. Total de comentários agregados até agora: 40\n",
            "Buscando página 3...\n",
            "Página 3 baixada com sucesso. Total de comentários agregados até agora: 60\n",
            "\n",
            "Quantidade total de comentários agregados das 3 páginas: 60\n"
          ]
        }
      ],
      "source": [
        "import requests\n",
        "\n",
        "\n",
        "url = 'https://jsonplaceholder.typicode.com/comments?_page=1&_limit=20'\n",
        "\n",
        "all_comments = []\n",
        "\n",
        "num_pages = 3\n",
        "itensPagina = 20\n",
        "\n",
        "response = requests.get(url)\n",
        "\n",
        "print(f\"Buscando {num_pages} páginas de comentários...\")\n",
        "\n",
        "for page_num in range(1, num_pages + 1):\n",
        "    params = {\n",
        "        '_page': page_num,\n",
        "        '_limit': itensPagina\n",
        "    }\n",
        "    print(f\"Buscando página {page_num}...\")\n",
        "    response = requests.get(url, params=params)\n",
        "\n",
        "    if response.status_code == 200:\n",
        "        try:\n",
        "            comments_on_page = response.json()\n",
        "            all_comments.extend(comments_on_page)\n",
        "            print(f\"Página {page_num} baixada com sucesso. Total de comentários agregados até agora: {len(all_comments)}\")\n",
        "        except requests.exceptions.JSONDecodeError:\n",
        "            print(f\"Erro ao decodificar JSON na página {page_num}. Conteúdo recebido:\")\n",
        "            print(response.text)\n",
        "            break # Pare se houver um erro de decodificação JSON\n",
        "    else:\n",
        "        print(f\"Erro ao buscar página {page_num}. Código de status: {response.status_code}\")\n",
        "        break\n",
        "\n",
        "\n",
        "# Exibindo a quantidade total de itens agregados.\n",
        "print(f\"\\nQuantidade total de comentários agregados das {num_pages} páginas: {len(all_comments)}\")\n"
      ]
    },
    {
      "cell_type": "markdown",
      "metadata": {
        "id": "thFXSUTPCyBP"
      },
      "source": [
        "### Exercício 3: Download de Mídia e Salvamento Local  \n",
        "1. Utilize `requests` para baixar uma imagem ou arquivo PDF disponível na web (por exemplo, `https://httpbin.org/image/png`).  \n",
        "2. Implemente tratamento de erros para verificar se o código de status é 200 antes de gravar o conteúdo.  \n",
        "3. Salve o conteúdo binário em um arquivo local (por exemplo, `imagem_exemplo.png` ou `documento_exemplo.pdf`).  \n",
        "4. Verifique e imprima o tamanho (em bytes) do arquivo salvo.\n"
      ]
    },
    {
      "cell_type": "code",
      "execution_count": null,
      "metadata": {
        "id": "4ZgIEOXdCyVr",
        "colab": {
          "base_uri": "https://localhost:8080/"
        },
        "outputId": "c2f38e1a-86d3-4268-b53e-ce29251ea2ab"
      },
      "outputs": [
        {
          "output_type": "stream",
          "name": "stdout",
          "text": [
            "Tentando baixar a imagem de: https://cdn4.iconfinder.com/data/icons/logos-and-brands/512/11_Illustrator_Adobe_Ai_logo_logos-512.png\n",
            "Download bem-sucedido. Salvando o arquivo...\n",
            "Imagem salva como 'imagem_AI.png' no ambiente do Colab.\n",
            "Tamanho do arquivo salvo: 4581 bytes.\n",
            "https://cdn4.iconfinder.com/data/icons/logos-and-brands/512/11_Illustrator_Adobe_Ai_logo_logos-512.png\n"
          ]
        }
      ],
      "source": [
        "import requests\n",
        "import os\n",
        "\n",
        "\n",
        "url_imagem = \"https://cdn4.iconfinder.com/data/icons/logos-and-brands/512/11_Illustrator_Adobe_Ai_logo_logos-512.png\"\n",
        "\n",
        "# Nome para salvar no pc\n",
        "nome_imagem = \"imagem_AI.png\"\n",
        "\n",
        "print(f\"Tentando baixar a imagem de: {url_imagem}\")\n",
        "\n",
        "try:\n",
        "    # Envia a requisição GET para baixar o conteúdo da imagem\n",
        "    response = requests.get(url_imagem, stream=True) # Usando stream=True para lidar com arquivos grandes\n",
        "\n",
        "    # 2. Implementa tratamento de erros para verificar se o código de status é 200\n",
        "    if response.status_code == 200:\n",
        "        print(\"Download bem-sucedido. Salvando o arquivo...\")\n",
        "        # 3. Salva o conteúdo binário em um arquivo local\n",
        "        with open(nome_imagem, 'wb') as f: # Abre o arquivo em modo de escrita binária ('wb')\n",
        "            for chunk in response.iter_content(chunk_size=8192): # Itera sobre o conteúdo em pedaços\n",
        "                f.write(chunk) # Escreve cada pedaço no arquivo\n",
        "        print(f\"Imagem salva como '{nome_imagem}' no ambiente do Colab.\")\n",
        "\n",
        "        # 4. Verifica e imprime o tamanho (em bytes) do arquivo salvo.\n",
        "        tamanho_arquivo = os.path.getsize(nome_imagem)\n",
        "        print(f\"Tamanho do arquivo salvo: {tamanho_arquivo} bytes.\")\n",
        "\n",
        "    else:\n",
        "        print(f\"Falha ao baixar a imagem. Código de status: {response.status_code}\")\n",
        "\n",
        "except requests.exceptions.RequestException as e:\n",
        "    print(f\"Ocorreu um erro durante a requisição: {e}\")\n",
        "except IOError as e:\n",
        "    print(f\"Ocorreu um erro ao salvar o arquivo: {e}\")\n",
        "\n",
        "print(url_imagem)"
      ]
    },
    {
      "cell_type": "markdown",
      "metadata": {
        "id": "xzpz-c7bCyr3"
      },
      "source": [
        "### Exercício 4: Uso de Sessões e Cookies para Manter Estado  \n",
        "1. Crie um objeto `Session` de `requests` para simular um fluxo de login simples.  \n",
        "2. Primeiro, faça uma requisição GET a `https://httpbin.org/cookies/set?visita=1` para definir um cookie chamado `visita`.  \n",
        "3. Em seguida, faça nova requisição GET a `https://httpbin.org/cookies` usando a mesma sessão e extraia do JSON o cookie `visita`.  \n",
        "4. Exiba no console o valor desse cookie para comprovar que a sessão manteve o estado.\n"
      ]
    },
    {
      "cell_type": "code",
      "execution_count": null,
      "metadata": {
        "id": "fdsp9zo-Cy97",
        "colab": {
          "base_uri": "https://localhost:8080/"
        },
        "outputId": "d3ba1221-4b12-4814-f797-50626a399e00"
      },
      "outputs": [
        {
          "output_type": "stream",
          "name": "stdout",
          "text": [
            "Tentando acessar: https://httpbin.org/cookies/set?visita=1\n",
            "Código de Status: 200\n",
            "Cookies na sessão após a requisição de setar:\n",
            "{'visita': '1'}\n"
          ]
        }
      ],
      "source": [
        "import requests\n",
        "\n",
        "#Seção do requests\n",
        "\n",
        "s = requests.Session()\n",
        "\n",
        "url_cookies = \"https://httpbin.org/cookies/set?visita=1\"\n",
        "print(f\"Tentando acessar: {url_cookies}\")\n",
        "response = s.get(url_cookies)\n",
        "\n",
        "#status\n",
        "print(\"Código de Status:\", response.status_code)\n",
        "\n",
        "print(\"Cookies na sessão após a requisição de setar:\")\n",
        "print(s.cookies.get_dict())\n",
        "\n",
        "#"
      ]
    },
    {
      "cell_type": "markdown",
      "metadata": {
        "id": "2DFR10VSDxEj"
      },
      "source": [
        "### Exercício 5: Respeitando o arquivo robots.txt  \n",
        "1. Dado um site de exemplo (por ex.: `https://httpbin.org/robots.txt`), use `requests` para baixar o conteúdo do `robots.txt`.  \n",
        "2. Analise manualmente (ou com auxílio de string parsing) se o user‐agent `\"*\"` está autorizado a acessar uma determinada rota (por ex.: `/delay/3`).  \n",
        "3. Implemente uma função que, antes de fazer qualquer requisição à URL de teste (por ex.: `https://httpbin.org/delay/3`), verifique se ela está permitida.  \n",
        "4. Caso o acesso seja negado pelo `robots.txt`, imprima “Acesso bloqueado por robots.txt” e evite a requisição; caso seja permitido, prossiga normalmente e exiba o código de status.\n"
      ]
    },
    {
      "cell_type": "code",
      "execution_count": null,
      "metadata": {
        "id": "BDb0F9IQDxUc",
        "colab": {
          "base_uri": "https://localhost:8080/"
        },
        "outputId": "8adbe613-b93c-4420-b5ef-c4eb69d050ef"
      },
      "outputs": [
        {
          "output_type": "stream",
          "name": "stdout",
          "text": [
            "\n",
            "Conteúdo do robots.txt:\n",
            "# robots.txt\n",
            "#\n",
            "User-agent: *\n",
            "Sitemap: https://www.uol.com.br/carros/sitemap/v2/news-01.xml\n",
            "Sitemap: https://www.uol.com.br/ecoa/sitemap/news-01.xml\n",
            "Sitemap: https://www.uol.com.br/esporte/sitemap/v2/news-01.xml\n",
            "Sitemap: https://www.uol.com.br/nossa/sitemap/news-01.xml\n",
            "Sitemap: https://www.uol.com.br/splash/sitemap/news-01.xml\n",
            "Sitemap: https://www.uol.com.br/tilt/sitemap/news-01.xml\n",
            "Sitemap: https://www.uol.com.br/universa/sitemap/v2/news-01.xml\n",
            "Sitemap: https://www.uol.com.br/vivabem/sitemap/v2/news-01.xml\n",
            "Sitemap: https://www.uol.com.br/apostas/api/?resource-id=sitemap&source=apostas/v1/articles.xml\n",
            "Sitemap: https://www.uol.com.br/apostas/api/?resource-id=sitemap&source=apostas/v1/authors.xml\n",
            "Sitemap: https://www.uol.com.br/apostas/api/?resource-id=sitemap&source=apostas/v1/content.xml\n",
            "Sitemap: https://www.uol.com.br/apostas/api/?resource-id=sitemap&source=apostas/v1/news.xml\n",
            "Sitemap: https://c.jsuol.com.br/assets/jupiter-news/?resource-id=sitemap&source=toca/index.xml\n",
            "Allow: /\n",
            "Disallow: /carros/dev/\n",
            "User-agent: GPTBot\n",
            "Disallow: /\n",
            "User-agent: Google-Extended\n",
            "Disallow: /\n",
            "\n"
          ]
        }
      ],
      "source": [
        "import requests\n",
        "\n",
        "url_base = \"https://www.uol.com.br\"\n",
        "rota = \"/delay/3\"\n",
        "\n",
        "\n",
        "\n",
        "def obter_robots_txt(url_base):\n",
        "    url_robots = url_base + \"/robots.txt\"\n",
        "    try:\n",
        "        resposta = requests.get(url_robots)\n",
        "\n",
        "        if resposta.status_code == 200:\n",
        "            return resposta.text\n",
        "            print(resposta.text)\n",
        "        else:\n",
        "            print(f\"Não foi possível acessar robots.txt. Código de status: {resposta.status_code}\")\n",
        "            return \"\"\n",
        "\n",
        "    except Exception as e:\n",
        "        print(f\"Erro ao acessar robots.txt: {e}\")\n",
        "        return \"\"\n",
        "\n",
        "\n",
        "\n",
        "robots_content = obter_robots_txt(url_base)\n",
        "if robots_content:\n",
        "    print(\"\\nConteúdo do robots.txt:\")\n",
        "    print(robots_content)\n"
      ]
    },
    {
      "cell_type": "code",
      "source": [
        "def verificar_permissao(robots_txt, rota , user_agent = \"*\"):\n",
        "    permitido = True\n",
        "    analisar = False\n",
        "\n",
        "    for linhas in robots_txt.splitlines():\n",
        "        linha = linhas.strip()\n",
        "\n",
        "        if linha.lower().startswith('user-agent:'):\n",
        "            agente = linha.split(':', 1)[1].strip()\n",
        "            analisar_regras = (agente == user_agent) or (agente == \"*\")\n",
        "\n",
        "        elif analisar and linha.lower().startswith(\"disallow: \"):\n",
        "            if linha.lower().startswith(\"disallow: \"):\n",
        "                caminho_bloqueado = linha.split(':', 1)[1].strip()\n",
        "\n",
        "                if rota.startswith(caminho_bloqueado):\n",
        "                    permitido = False\n",
        "\n",
        "\n",
        "        elif linha.lower().startswith('user-agent:'):\n",
        "             analisar_regras = False\n",
        "\n",
        "\n",
        "    return permitido\n",
        "\n",
        "robots_content = obter_robots_txt(url_base)\n",
        "if robots_content:\n",
        "    if verificar_permissao(robots_content, rota):\n",
        "        print(f\"\\nUser-agent '*' tem permissão para acessar '{rota}'.\")\n",
        "    else:\n",
        "        print(f\"\\nUser-agent '*' NÃO tem permissão para acessar '{rota}'.\")"
      ],
      "metadata": {
        "colab": {
          "base_uri": "https://localhost:8080/"
        },
        "id": "uITbbmZe4tRE",
        "outputId": "c6dcd00f-392e-4650-e48f-d31100e24df9"
      },
      "execution_count": null,
      "outputs": [
        {
          "output_type": "stream",
          "name": "stdout",
          "text": [
            "\n",
            "User-agent '*' tem permissão para acessar '/delay/3'.\n"
          ]
        }
      ]
    },
    {
      "cell_type": "code",
      "source": [
        "def acessar_url_se_permitido(url_base, rota, user_agent=\"*\"):\n",
        "    robots_txt = obter_robots_txt(url_base)\n",
        "\n",
        "    if not robots_txt:\n",
        "        url_completa = url_base + rota\n",
        "        print(f\"Tentando acessar: {url_completa}\")\n",
        "\n",
        "        try:\n",
        "            resposta = requests.get(url_completa)\n",
        "            print(\"Código de Status:\", resposta.status_code)\n",
        "        except requests.exceptions.RequestException as e:\n",
        "            print(f\"Erro ao acessar URL: {e}\")\n",
        "        return\n",
        "\n",
        "\n",
        "    if verificar_permissao(robots_txt, rota, user_agent):\n",
        "       url_completa = url_base + rota\n",
        "       resposta = requests.get(url_completa)\n",
        "       print(f\"\\nUser-agent '{user_agent}' tem permissão para acessar '{rota}'. Tentando acessar: {url_completa}\")\n",
        "\n",
        "    else:\n",
        "        print(\"Acesso bloqueado por robots.txt\")\n",
        "\n",
        "acessar_url_se_permitido(url_base, rota)\n"
      ],
      "metadata": {
        "colab": {
          "base_uri": "https://localhost:8080/"
        },
        "id": "WIQHw1QX7X2t",
        "outputId": "bb588e12-1474-44bb-dab9-afe0daebf0fb"
      },
      "execution_count": null,
      "outputs": [
        {
          "output_type": "stream",
          "name": "stdout",
          "text": [
            "\n",
            "User-agent '*' tem permissão para acessar '/delay/3'. Tentando acessar: https://www.uol.com.br/delay/3\n"
          ]
        }
      ]
    },
    {
      "cell_type": "markdown",
      "metadata": {
        "id": "YN9fWCn9GINy"
      },
      "source": [
        "### Exercício 6: Inserindo Atrasos (Throttle) entre Requisições  \n",
        "**Enunciado:**  \n",
        "1. Crie uma lista com três URLs distintas de um mesmo domínio (por ex.: `https://httpbin.org/get?a=1`, `...?a=2`, `...?a=3`).  \n",
        "2. Utilize `time.sleep()` para aguardar **2 segundos** entre cada requisição.  \n",
        "3. Em cada requisição, registre o horário de início e de término (com `time.time()`) e, ao final, exiba a latência (diferença de tempo) de cada chamada.  \n",
        "4. Garanta que, mesmo se uma requisição falhar, o script aguarde o intervalo antes de tentar a próxima.\n"
      ]
    },
    {
      "cell_type": "code",
      "execution_count": null,
      "metadata": {
        "id": "51R1RYJrGMMx",
        "colab": {
          "base_uri": "https://localhost:8080/"
        },
        "outputId": "c6d99eee-d7b6-4d07-b0e0-b4c9498da1c7"
      },
      "outputs": [
        {
          "output_type": "stream",
          "name": "stdout",
          "text": [
            "URLs a serem acessadas:\n",
            "https://httpbin.org/get?a=1\n",
            "https://httpbin.org/get?a=2\n",
            "https://httpbin.org/get?a=3\n"
          ]
        }
      ],
      "source": [
        "#1 listas de URLs\n",
        "urls = [\n",
        "    \"https://httpbin.org/get?a=1\",\n",
        "    \"https://httpbin.org/get?a=2\",\n",
        "    \"https://httpbin.org/get?a=3\"\n",
        "]\n",
        "\n",
        "print(\"URLs a serem acessadas:\")\n",
        "for url in urls:\n",
        "    print(url)"
      ]
    },
    {
      "cell_type": "code",
      "source": [
        "# 2. Requisições\n",
        "import requests\n",
        "import time\n",
        "aguardar = 2\n",
        "print(f\"\\nFazendo requisições com atraso de {aguardar} segundos entre elas:\")\n",
        "\n",
        "latencias = []\n",
        "\n",
        "# 3. Iterar sobre as URLs, fazer requisições e inserir atrasos\n",
        "for i, url in enumerate(urls):\n",
        "    print(f\"\\nTentando acessar: {url}\")\n",
        "    inicio = time.time()\n",
        "\n",
        "    try:\n",
        "        response = requests.get(url)\n",
        "        response.raise_for_status()\n",
        "        print(f\"Requisição {i + 1} bem-sucedida. Código de status: {response.status_code}\")\n",
        "\n",
        "    except requests.exceptions.RequestException as e:\n",
        "        print(f\"Erro ao acessar {url}: {e}\")\n",
        "\n",
        "    finally:\n",
        "        fim = time.time()\n",
        "        latencia = fim - inicio\n",
        "        latencias.append(latencia)\n",
        "        print(f\"Latência da requisição {i + 1}: {latencia:.4f} segundos\")\n",
        "\n"
      ],
      "metadata": {
        "colab": {
          "base_uri": "https://localhost:8080/"
        },
        "id": "cytQPlLKRN9f",
        "outputId": "250573b9-cd80-4294-de2d-87192cda182d"
      },
      "execution_count": null,
      "outputs": [
        {
          "output_type": "stream",
          "name": "stdout",
          "text": [
            "\n",
            "Fazendo requisições com atraso de 2 segundos entre elas:\n",
            "\n",
            "Tentando acessar: https://httpbin.org/get?a=1\n",
            "Requisição 1 bem-sucedida. Código de status: 200\n",
            "Latência da requisição 1: 0.7446 segundos\n",
            "\n",
            "Tentando acessar: https://httpbin.org/get?a=2\n",
            "Requisição 2 bem-sucedida. Código de status: 200\n",
            "Latência da requisição 2: 0.7368 segundos\n",
            "\n",
            "Tentando acessar: https://httpbin.org/get?a=3\n",
            "Requisição 3 bem-sucedida. Código de status: 200\n",
            "Latência da requisição 3: 0.9393 segundos\n"
          ]
        }
      ]
    },
    {
      "cell_type": "code",
      "source": [
        "#4 mesmo se uma requisição falhar, o script aguarde o intervalo antes de tentar a próxima.\n",
        "print(\"\\nLatências de todas as requisições:\")\n",
        "for i, latencia in enumerate(latencias):\n",
        "    print(f\"URL {i+1} ({urls[i]}): {latencia:.2f} segundos\")"
      ],
      "metadata": {
        "colab": {
          "base_uri": "https://localhost:8080/"
        },
        "id": "3nbSGsy-SdQm",
        "outputId": "ab6a6267-ac6d-4f2f-f68e-bef56bdb5659"
      },
      "execution_count": null,
      "outputs": [
        {
          "output_type": "stream",
          "name": "stdout",
          "text": [
            "\n",
            "Latências de todas as requisições:\n",
            "URL 1 (https://httpbin.org/get?a=1): 0.74 segundos\n",
            "URL 2 (https://httpbin.org/get?a=2): 0.74 segundos\n",
            "URL 3 (https://httpbin.org/get?a=3): 0.94 segundos\n"
          ]
        }
      ]
    },
    {
      "cell_type": "markdown",
      "metadata": {
        "id": "NEcEb1-IGNMK"
      },
      "source": [
        "### Exercício 7: Implementando Logs Detalhados de Requisições  \n",
        "1. Configure o módulo `logging` do Python para registrar mensagens em um arquivo chamado `scraper.log`.  \n",
        "2. Em cada requisição a um conjunto de URLs (por ex.: três endpoints diferentes de `httpbin.org/get`), registre as seguintes informações:  \n",
        "   - Timestamp de início da requisição  \n",
        "   - URL solicitada  \n",
        "   - Código de status da resposta  \n",
        "   - Tempo total de resposta (em segundos)  \n",
        "3. Caso ocorra algum erro (timeout, conexão recusada, HTTP ≥ 400), capture a exceção e grave no log:  \n",
        "   - Timestamp do erro  \n",
        "   - Tipo de exceção e mensagem de erro  \n",
        "   - URL que originou a falha  \n",
        "4. Ao final, abra e mostre as últimas cinco linhas de `scraper.log` para comprovar que os eventos foram registrados.\n"
      ]
    },
    {
      "cell_type": "code",
      "execution_count": null,
      "metadata": {
        "id": "iIUqTkJrGVDg",
        "colab": {
          "base_uri": "https://localhost:8080/"
        },
        "outputId": "1260a7fe-d31e-4514-92ec-69bcc1553452"
      },
      "outputs": [
        {
          "output_type": "stream",
          "name": "stdout",
          "text": [
            "O log está configurado para escrever em 'scraper.log'.\n",
            "Verifique o painel de arquivos do Colab para ver o arquivo após a execução.\n"
          ]
        }
      ],
      "source": [
        "#1 Configurando o módulo logging\n",
        "import logging\n",
        "\n",
        "logging.basicConfig(\n",
        "    filename=\"scraper.log\",\n",
        "    level=logging.INFO,\n",
        "    format=\"%(asctime)s - %(levelname)s - %(message)s\"\n",
        ")\n",
        "\n",
        "logging.info(\"Configuração do logging concluída.\")\n",
        "print(\"O log está configurado para escrever em 'scraper.log'.\")\n",
        "print(\"Verifique o painel de arquivos do Colab para ver o arquivo após a execução.\")"
      ]
    },
    {
      "cell_type": "code",
      "source": [
        "#2  registro das informações\n",
        "import requests\n",
        "import time\n",
        "import logging\n",
        "\n",
        "urls_para_log = [\n",
        "    \"https://httpbin.org/get?param1=valor1\",\n",
        "    \"https://httpbin.org/status/404\", # URL que retornará um erro 404\n",
        "    \"https://httpbin.org/delay/1\",    # URL com um pequeno atraso\n",
        "    \"https://httpbin.org/get?param2=valor2\",\n",
        "    \"https://invalid-url-for-test.com\" # URL inválida para simular erro de conexão\n",
        "]\n",
        "print(\"\\nProcessando URLs com logging detalhado:\")\n",
        "\n",
        "for url in urls_para_log:\n",
        "    inicio_req = time.time()\n",
        "    logging.info(f\"Iniciando requisição para: {url}\") # Registrar timestamp de início e URL\n",
        "\n",
        "    try:\n",
        "        response = requests.get(url, timeout=5)\n",
        "        fim_req = time.time()\n",
        "        tempo_resposta = fim_req - inicio_req\n",
        "\n",
        "\n",
        "        if response.status_code >= 400:\n",
        "            logging.warning(f\"Requisição para {url} falhou com código de status: {response.status_code}\")\n",
        "        else:\n",
        "            logging.info(f\"Requisição para {url} bem-sucedida.\")\n",
        "\n",
        "        logging.info(f\"URL solicitada: {url}\")\n",
        "        logging.info(f\"Código de status: {response.status_code}\")\n",
        "        logging.info(f\"Tempo total de resposta: {tempo_resposta:.4f} segundos\") # Registrar tempo total de resposta\n",
        "\n",
        "    except requests.exceptions.Timeout:\n",
        "        fim_req = time.time()\n",
        "        tempo_gasto = fim_req - inicio_req\n",
        "        logging.error(f\"Erro de Timeout ao acessar {url}. Tempo gasto até o timeout: {tempo_gasto:.4f} segundos.\")\n",
        "        logging.error(f\"URL que originou a falha: {url}\")\n",
        "\n",
        "    except requests.exceptions.ConnectionError as e:\n",
        "        fim_req = time.time()\n",
        "        tempo_gasto = fim_req - inicio_req\n",
        "        logging.error(f\"Erro de Conexão ao acessar {url}: {e}. Tempo gasto até o erro: {tempo_gasto:.4f} segundos.\")\n",
        "        logging.error(f\"URL que originou a falha: {url}\")\n",
        "\n",
        "    except requests.exceptions.RequestException as e:\n",
        "        fim_req = time.time()\n",
        "        tempo_gasto = fim_req - inicio_req\n",
        "        logging.error(f\"Ocorreu um erro na requisição para {url}: {e}. Tempo gasto até o erro: {tempo_gasto:.4f} segundos.\")\n",
        "        logging.error(f\"Tipo de exceção: {type(e).__name__}\")\n",
        "        logging.error(f\"URL que originou a falha: {url}\")\n",
        "\n",
        "    except Exception as e:\n",
        "        fim_req = time.time()\n",
        "        tempo_gasto = fim_req - inicio_req\n",
        "        logging.error(f\"Ocorreu um erro inesperado ao processar {url}: {e}. Tempo gasto até o erro: {tempo_gasto:.4f} segundos.\")\n",
        "        logging.error(f\"Tipo de exceção: {type(e).__name__}\")\n",
        "        logging.error(f\"URL que originou a falha: {url}\")\n",
        "\n",
        "\n",
        "print(\"\\nRequisições concluídas. As informações foram registradas em 'scraper.log'.\")"
      ],
      "metadata": {
        "colab": {
          "base_uri": "https://localhost:8080/"
        },
        "id": "bi48JOtxURjP",
        "outputId": "f6277dde-60a8-471b-ea19-f6e1043ff0fa"
      },
      "execution_count": null,
      "outputs": [
        {
          "output_type": "stream",
          "name": "stdout",
          "text": [
            "\n",
            "Processando URLs com logging detalhado:\n"
          ]
        },
        {
          "output_type": "stream",
          "name": "stderr",
          "text": [
            "WARNING:root:Requisição para https://httpbin.org/status/404 falhou com código de status: 404\n",
            "ERROR:root:Erro de Conexão ao acessar https://invalid-url-for-test.com: HTTPSConnectionPool(host='invalid-url-for-test.com', port=443): Max retries exceeded with url: / (Caused by NameResolutionError(\"<urllib3.connection.HTTPSConnection object at 0x7b10640e68d0>: Failed to resolve 'invalid-url-for-test.com' ([Errno -2] Name or service not known)\")). Tempo gasto até o erro: 0.0550 segundos.\n",
            "ERROR:root:URL que originou a falha: https://invalid-url-for-test.com\n"
          ]
        },
        {
          "output_type": "stream",
          "name": "stdout",
          "text": [
            "\n",
            "Requisições concluídas. As informações foram registradas em 'scraper.log'.\n"
          ]
        }
      ]
    }
  ],
  "metadata": {
    "colab": {
      "provenance": []
    },
    "kernelspec": {
      "display_name": "Python 3",
      "name": "python3"
    },
    "language_info": {
      "codemirror_mode": {
        "name": "ipython",
        "version": 3
      },
      "file_extension": ".py",
      "mimetype": "text/x-python",
      "name": "python",
      "nbconvert_exporter": "python",
      "pygments_lexer": "ipython3",
      "version": "3.13.2"
    }
  },
  "nbformat": 4,
  "nbformat_minor": 0
}