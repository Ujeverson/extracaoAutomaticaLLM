{
  "cells": [
    {
      "cell_type": "markdown",
      "metadata": {
        "id": "Wf49sq3L-PAR"
      },
      "source": [
        "## Extração Automatizada de Dados - Agentes Inteligentes INF/UFG\n",
        "### Prof. Otávio Calaça Xavier\n",
        "----\n",
        "\n",
        "## Protocolo HTTP"
      ]
    },
    {
      "cell_type": "markdown",
      "metadata": {
        "id": "XKWg0Xhh-m4P"
      },
      "source": [
        "### Exemplo 1: Requisição GET e Inspeção de Cabeçalhos\n",
        "\n",
        "**Objetivo:**  \n",
        "Mostrar como enviar uma requisição HTTP utilizando a biblioteca `requests`, inspecionar o código de status e visualizar cabeçalhos relevantes da resposta.\n",
        "\n",
        "**Descrição:**  \n",
        "1. Importar a biblioteca `requests`.  \n",
        "2. Definir uma URL pública (por exemplo: `https://httpbin.org/get`).  \n",
        "3. Enviar a requisição GET.  \n",
        "4. Exibir o código de status e os cabeçalhos `Content-Type` e `Server`.  \n",
        "5. Exibir o corpo da resposta para demonstrar como inspecionar conteúdo bruto.\n"
      ]
    },
    {
      "cell_type": "code",
      "execution_count": 1,
      "metadata": {
        "colab": {
          "base_uri": "https://localhost:8080/"
        },
        "id": "LEu_cNBY-ltf",
        "outputId": "56e0762a-03b9-401d-d98d-d84412cd4b93"
      },
      "outputs": [
        {
          "name": "stdout",
          "output_type": "stream",
          "text": [
            "Código de Status: 200\n",
            "Content-Type: application/json\n",
            "Server: gunicorn/19.9.0\n",
            "-- Início do corpo da resposta --\n",
            "{\n",
            "  \"args\": {}, \n",
            "  \"headers\": {\n",
            "    \"Accept\": \"*/*\", \n",
            "    \"Accept-Encoding\": \"gzip, deflate\", \n",
            "    \"Host\": \"httpbin.org\", \n",
            "    \"User-Agent\": \"python-requests/2.32.3\", \n",
            "    \"X-Amzn-Trace-Id\": \"Root=1-68437ff6-2e7b52532539c1f72615050d\"\n",
            "  }, \n",
            "  \"origin\": \"38.50.159.222\", \n",
            "  \"url\": \"https://httpbin.org/get\"\n",
            "}\n",
            "\n",
            "-- Fim da pré-visualização --\n"
          ]
        }
      ],
      "source": [
        "import requests\n",
        "\n",
        "# 1. Definição da URL de destino\n",
        "url = \"https://httpbin.org/get\"\n",
        "\n",
        "# 2. Envio da requisição GET\n",
        "response = requests.get(url)\n",
        "\n",
        "# 3. Inspeção do código de status\n",
        "print(\"Código de Status:\", response.status_code)\n",
        "\n",
        "# 4. Exibição de cabeçalhos específicos\n",
        "print(\"Content-Type:\", response.headers.get(\"Content-Type\"))\n",
        "print(\"Server:\", response.headers.get(\"Server\"))\n",
        "\n",
        "# 5. Exibição de parte do corpo da resposta\n",
        "print(\"-- Início do corpo da resposta --\")\n",
        "print(response.text)\n",
        "print(\"-- Fim da pré-visualização --\")"
      ]
    },
    {
      "cell_type": "markdown",
      "metadata": {
        "id": "yJBnDa9V_D2V"
      },
      "source": [
        "### Exemplo 2: Download e Leitura de Arquivo CSV via HTTP\n",
        "\n",
        "**Objetivo:**  \n",
        "Realizar download de um arquivo CSV disponível na web, ler seu conteúdo com `pandas` e exibir uma amostra dos dados.\n",
        "\n",
        "**Descrição:**  \n",
        "1. Importe as bibliotecas `requests` e `pandas`.  \n",
        "2. Defina a URL de um CSV público (por exemplo: https://people.sc.fsu.edu/~jburkardt/data/csv/airtravel.csv)\n",
        "\n",
        "3. Envie uma requisição GET para obter o conteúdo bruto do CSV.  \n",
        "4. Crie um `DataFrame` do pandas usando `pd.read_csv()` diretamente a partir de `io.StringIO(response.text)` para converter o texto em formato tabelar.  \n",
        "5. Exiba no console:  \n",
        "- As primeiras cinco linhas do `DataFrame` (`df.head()`).  \n",
        "- Informações gerais do `DataFrame` (número de linhas, colunas e tipos de dados) usando `df.info()`.  \n",
        "6. Opcional: salve o conteúdo em um arquivo local chamado `airtravel.csv`"
      ]
    },
    {
      "cell_type": "code",
      "execution_count": 2,
      "metadata": {
        "colab": {
          "base_uri": "https://localhost:8080/"
        },
        "id": "EtI1adKbAPFU",
        "outputId": "8e012113-9d3e-4d57-ccc4-fadd8715a505"
      },
      "outputs": [
        {
          "name": "stdout",
          "output_type": "stream",
          "text": [
            "Download bem-sucedido do CSV.\n",
            "\n",
            "Amostra dos dados (primeiras 5 linhas):\n",
            "               NMU   ANO   REM   RAP   RAE   RCO   RCC  RME   RMI   RSE  RSI\n",
            "0  Abadia de Goiás  2010   937   820   825   853  1065    0   957  1100    0\n",
            "1  Abadia de Goiás  2011   999   980   964   761  1119    0  1058  1117    0\n",
            "2  Abadia de Goiás  2012  1166   951  1165  1181  1378    0  1358  1033    0\n",
            "3  Abadia de Goiás  2013  1457  1548  1306  1398  1468    0  1388  1557    0\n",
            "4  Abadia de Goiás  2014  1738  1725  1299  2264  1511  800  1453  1608    0\n",
            "\n",
            "Informações do DataFrame:\n",
            "<class 'pandas.core.frame.DataFrame'>\n",
            "RangeIndex: 2706 entries, 0 to 2705\n",
            "Data columns (total 11 columns):\n",
            " #   Column  Non-Null Count  Dtype \n",
            "---  ------  --------------  ----- \n",
            " 0   NMU     2706 non-null   object\n",
            " 1   ANO     2706 non-null   int64 \n",
            " 2   REM     2706 non-null   int64 \n",
            " 3   RAP     2706 non-null   int64 \n",
            " 4   RAE     2706 non-null   int64 \n",
            " 5   RCO     2706 non-null   int64 \n",
            " 6   RCC     2706 non-null   int64 \n",
            " 7   RME     2706 non-null   int64 \n",
            " 8   RMI     2706 non-null   int64 \n",
            " 9   RSE     2706 non-null   int64 \n",
            " 10  RSI     2706 non-null   int64 \n",
            "dtypes: int64(10), object(1)\n",
            "memory usage: 232.7+ KB\n",
            "None\n",
            "\n",
            "Arquivo 'rendimento_muni_2010_2020.csv' salvo no ambiente do Colab.\n"
          ]
        }
      ],
      "source": [
        "import requests\n",
        "import pandas as pd\n",
        "import io\n",
        "\n",
        "# 1. Definição da URL do CSV\n",
        "csv_url = \"https://raw.githubusercontent.com/Ujeverson/educacao_economia/refs/heads/main/rendimento_muni_2010_2020.csv\"\n",
        "\n",
        "# 2. Download do conteúdo CSV\n",
        "response = requests.get(csv_url)\n",
        "if response.status_code == 200:\n",
        " print(\"Download bem-sucedido do CSV.\\n\")\n",
        "else:\n",
        " raise Exception(f\"Falha ao baixar CSV. Código: {response.status_code}\")\n",
        "\n",
        "# 3. Leitura do CSV com pandas\n",
        "# Convertemos o texto em StringIO para simular um arquivo em memória\n",
        "csv_buffer = io.StringIO(response.text)\n",
        "df = pd.read_csv(csv_buffer)\n",
        "\n",
        "# 4. Exibição das primeiras 5 linhas\n",
        "print(\"Amostra dos dados (primeiras 5 linhas):\")\n",
        "print(df.head())\n",
        "\n",
        "# 5. Informações gerais do DataFrame\n",
        "print(\"\\nInformações do DataFrame:\")\n",
        "print(df.info())\n",
        "\n",
        "# 6. Salvando localmente (opcional)\n",
        "with open(\"rendimento_muni_2010_2020.csv\", \"w\", encoding=\"utf-8\") as f:\n",
        " f.write(response.text)\n",
        "print(\"\\nArquivo 'rendimento_muni_2010_2020.csv' salvo no ambiente do Colab.\")"
      ]
    },
    {
      "cell_type": "code",
      "execution_count": 3,
      "metadata": {
        "colab": {
          "base_uri": "https://localhost:8080/",
          "height": 425
        },
        "id": "hky0R6KueB0m",
        "outputId": "fe590d6e-7528-4c80-951c-6abd2772f48b"
      },
      "outputs": [
        {
          "data": {
            "text/html": [
              "<div>\n",
              "<style scoped>\n",
              "    .dataframe tbody tr th:only-of-type {\n",
              "        vertical-align: middle;\n",
              "    }\n",
              "\n",
              "    .dataframe tbody tr th {\n",
              "        vertical-align: top;\n",
              "    }\n",
              "\n",
              "    .dataframe thead th {\n",
              "        text-align: right;\n",
              "    }\n",
              "</style>\n",
              "<table border=\"1\" class=\"dataframe\">\n",
              "  <thead>\n",
              "    <tr style=\"text-align: right;\">\n",
              "      <th></th>\n",
              "      <th>NMU</th>\n",
              "      <th>ANO</th>\n",
              "      <th>REM</th>\n",
              "      <th>RAP</th>\n",
              "      <th>RAE</th>\n",
              "      <th>RCO</th>\n",
              "      <th>RCC</th>\n",
              "      <th>RME</th>\n",
              "      <th>RMI</th>\n",
              "      <th>RSE</th>\n",
              "      <th>RSI</th>\n",
              "    </tr>\n",
              "  </thead>\n",
              "  <tbody>\n",
              "    <tr>\n",
              "      <th>0</th>\n",
              "      <td>Abadia de Goiás</td>\n",
              "      <td>2010</td>\n",
              "      <td>937</td>\n",
              "      <td>820</td>\n",
              "      <td>825</td>\n",
              "      <td>853</td>\n",
              "      <td>1065</td>\n",
              "      <td>0</td>\n",
              "      <td>957</td>\n",
              "      <td>1100</td>\n",
              "      <td>0</td>\n",
              "    </tr>\n",
              "    <tr>\n",
              "      <th>1</th>\n",
              "      <td>Abadia de Goiás</td>\n",
              "      <td>2011</td>\n",
              "      <td>999</td>\n",
              "      <td>980</td>\n",
              "      <td>964</td>\n",
              "      <td>761</td>\n",
              "      <td>1119</td>\n",
              "      <td>0</td>\n",
              "      <td>1058</td>\n",
              "      <td>1117</td>\n",
              "      <td>0</td>\n",
              "    </tr>\n",
              "    <tr>\n",
              "      <th>2</th>\n",
              "      <td>Abadia de Goiás</td>\n",
              "      <td>2012</td>\n",
              "      <td>1166</td>\n",
              "      <td>951</td>\n",
              "      <td>1165</td>\n",
              "      <td>1181</td>\n",
              "      <td>1378</td>\n",
              "      <td>0</td>\n",
              "      <td>1358</td>\n",
              "      <td>1033</td>\n",
              "      <td>0</td>\n",
              "    </tr>\n",
              "    <tr>\n",
              "      <th>3</th>\n",
              "      <td>Abadia de Goiás</td>\n",
              "      <td>2013</td>\n",
              "      <td>1457</td>\n",
              "      <td>1548</td>\n",
              "      <td>1306</td>\n",
              "      <td>1398</td>\n",
              "      <td>1468</td>\n",
              "      <td>0</td>\n",
              "      <td>1388</td>\n",
              "      <td>1557</td>\n",
              "      <td>0</td>\n",
              "    </tr>\n",
              "    <tr>\n",
              "      <th>4</th>\n",
              "      <td>Abadia de Goiás</td>\n",
              "      <td>2014</td>\n",
              "      <td>1738</td>\n",
              "      <td>1725</td>\n",
              "      <td>1299</td>\n",
              "      <td>2264</td>\n",
              "      <td>1511</td>\n",
              "      <td>800</td>\n",
              "      <td>1453</td>\n",
              "      <td>1608</td>\n",
              "      <td>0</td>\n",
              "    </tr>\n",
              "    <tr>\n",
              "      <th>...</th>\n",
              "      <td>...</td>\n",
              "      <td>...</td>\n",
              "      <td>...</td>\n",
              "      <td>...</td>\n",
              "      <td>...</td>\n",
              "      <td>...</td>\n",
              "      <td>...</td>\n",
              "      <td>...</td>\n",
              "      <td>...</td>\n",
              "      <td>...</td>\n",
              "      <td>...</td>\n",
              "    </tr>\n",
              "    <tr>\n",
              "      <th>2701</th>\n",
              "      <td>Águas Lindas de Goiás</td>\n",
              "      <td>2016</td>\n",
              "      <td>1413</td>\n",
              "      <td>1452</td>\n",
              "      <td>1172</td>\n",
              "      <td>1255</td>\n",
              "      <td>1264</td>\n",
              "      <td>0</td>\n",
              "      <td>1473</td>\n",
              "      <td>1513</td>\n",
              "      <td>983</td>\n",
              "    </tr>\n",
              "    <tr>\n",
              "      <th>2702</th>\n",
              "      <td>Águas Lindas de Goiás</td>\n",
              "      <td>2017</td>\n",
              "      <td>1592</td>\n",
              "      <td>1714</td>\n",
              "      <td>1257</td>\n",
              "      <td>1383</td>\n",
              "      <td>1794</td>\n",
              "      <td>0</td>\n",
              "      <td>1576</td>\n",
              "      <td>1541</td>\n",
              "      <td>7499</td>\n",
              "    </tr>\n",
              "    <tr>\n",
              "      <th>2703</th>\n",
              "      <td>Águas Lindas de Goiás</td>\n",
              "      <td>2018</td>\n",
              "      <td>1799</td>\n",
              "      <td>2598</td>\n",
              "      <td>1184</td>\n",
              "      <td>1405</td>\n",
              "      <td>1145</td>\n",
              "      <td>0</td>\n",
              "      <td>1442</td>\n",
              "      <td>1540</td>\n",
              "      <td>11687</td>\n",
              "    </tr>\n",
              "    <tr>\n",
              "      <th>2704</th>\n",
              "      <td>Águas Lindas de Goiás</td>\n",
              "      <td>2019</td>\n",
              "      <td>1861</td>\n",
              "      <td>2833</td>\n",
              "      <td>1280</td>\n",
              "      <td>1429</td>\n",
              "      <td>1331</td>\n",
              "      <td>0</td>\n",
              "      <td>1361</td>\n",
              "      <td>1596</td>\n",
              "      <td>5552</td>\n",
              "    </tr>\n",
              "    <tr>\n",
              "      <th>2705</th>\n",
              "      <td>Águas Lindas de Goiás</td>\n",
              "      <td>2020</td>\n",
              "      <td>1885</td>\n",
              "      <td>3275</td>\n",
              "      <td>1294</td>\n",
              "      <td>1437</td>\n",
              "      <td>654</td>\n",
              "      <td>0</td>\n",
              "      <td>1239</td>\n",
              "      <td>1452</td>\n",
              "      <td>3793</td>\n",
              "    </tr>\n",
              "  </tbody>\n",
              "</table>\n",
              "<p>2706 rows × 11 columns</p>\n",
              "</div>"
            ],
            "text/plain": [
              "                        NMU   ANO   REM   RAP   RAE   RCO   RCC  RME   RMI  \\\n",
              "0           Abadia de Goiás  2010   937   820   825   853  1065    0   957   \n",
              "1           Abadia de Goiás  2011   999   980   964   761  1119    0  1058   \n",
              "2           Abadia de Goiás  2012  1166   951  1165  1181  1378    0  1358   \n",
              "3           Abadia de Goiás  2013  1457  1548  1306  1398  1468    0  1388   \n",
              "4           Abadia de Goiás  2014  1738  1725  1299  2264  1511  800  1453   \n",
              "...                     ...   ...   ...   ...   ...   ...   ...  ...   ...   \n",
              "2701  Águas Lindas de Goiás  2016  1413  1452  1172  1255  1264    0  1473   \n",
              "2702  Águas Lindas de Goiás  2017  1592  1714  1257  1383  1794    0  1576   \n",
              "2703  Águas Lindas de Goiás  2018  1799  2598  1184  1405  1145    0  1442   \n",
              "2704  Águas Lindas de Goiás  2019  1861  2833  1280  1429  1331    0  1361   \n",
              "2705  Águas Lindas de Goiás  2020  1885  3275  1294  1437   654    0  1239   \n",
              "\n",
              "       RSE    RSI  \n",
              "0     1100      0  \n",
              "1     1117      0  \n",
              "2     1033      0  \n",
              "3     1557      0  \n",
              "4     1608      0  \n",
              "...    ...    ...  \n",
              "2701  1513    983  \n",
              "2702  1541   7499  \n",
              "2703  1540  11687  \n",
              "2704  1596   5552  \n",
              "2705  1452   3793  \n",
              "\n",
              "[2706 rows x 11 columns]"
            ]
          },
          "execution_count": 3,
          "metadata": {},
          "output_type": "execute_result"
        }
      ],
      "source": [
        "df"
      ]
    },
    {
      "cell_type": "markdown",
      "metadata": {
        "id": "WD0IZHLBBIV7"
      },
      "source": [
        "### Exemplo 3: Requisição POST com Parâmetros\n",
        "\n",
        "**Objetivo:**  \n",
        "Enviar uma requisição HTTP POST com parâmetros (form‐data), configurar cabeçalhos personalizados e processar a resposta em JSON.\n",
        "\n",
        "**Descrição:**  \n",
        "1. Importe a biblioteca `requests`.  \n",
        "2. Defina a URL de teste para POST: https://httpbin.org/post\n",
        "\n",
        "3. Prepare um dicionário `data` contendo parâmetros de formulário, por exemplo:  \n",
        "```python\n",
        "data = {\n",
        "    \"usuario\": \"<seu nome>\",\n",
        "    \"disciplina\": \"Extração Automatizada de Dados\"\n",
        "}\n",
        "```\n",
        "4. Crie um dicionário headers com um User-Agent e indicando que enviará form‐data:\n",
        "```python\n",
        "headers = {\n",
        "    \"User-Agent\": \"Notebook-Colab/1.0\",\n",
        "    \"Content-Type\": \"application/x-www-form-urlencoded\"\n",
        "}\n",
        "```\n",
        "5. Envie a requisição POST usando requests.post(url, data=data, headers=headers).\n",
        "\n",
        "6. Verifique se o código de status é 200. Em seguida, chame response.json() para converter a resposta em dicionário Python.\n",
        "\n",
        "7. Exiba no console, de forma organizada:\n",
        "\n",
        "  - O código de status (response.status_code).\n",
        "\n",
        "  - O campo \"form\" retornado (com os dados enviados).\n",
        "\n",
        "  - O campo \"headers\" retornado (para confirmar envio correto).\n",
        "\n",
        "  - O campo \"url\" (confirmando que é o endpoint de POST)."
      ]
    },
    {
      "cell_type": "code",
      "execution_count": 7,
      "metadata": {
        "colab": {
          "base_uri": "https://localhost:8080/",
          "height": 1000
        },
        "id": "hUa2FJNuATJb",
        "outputId": "b8e7a9ac-ae15-4da4-b592-02444bb507a2"
      },
      "outputs": [
        {
          "name": "stdout",
          "output_type": "stream",
          "text": [
            "Código de Status: 200\n",
            "\n",
            "Dados recebidos no campo 'form':\n",
            "{\n",
            "  \"disciplina\": \"Extração Automatizada de Dados\",\n",
            "  \"email\": \"ujeverson@gmail.com\",\n",
            "  \"usuario\": \"Ujeverson\"\n",
            "}\n",
            "\n",
            "Cabeçalhos retornados pelo servidor:\n",
            "{\n",
            "  \"Accept\": \"*/*\",\n",
            "  \"Accept-Encoding\": \"gzip, deflate\",\n",
            "  \"Content-Length\": \"97\",\n",
            "  \"Content-Type\": \"application/x-www-form-urlencoded\",\n",
            "  \"Host\": \"httpbin.org\",\n",
            "  \"User-Agent\": \"Notebook-Colab/1.0\",\n",
            "  \"X-Amzn-Trace-Id\": \"Root=1-6843834c-262f1c6f7088244f420b22d2\"\n",
            "}\n",
            "\n",
            "URL de destino usada:\n",
            "https://httpbin.org/post\n"
          ]
        }
      ],
      "source": [
        "import requests\n",
        "import json\n",
        "\n",
        "# 1. Definição da URL para requisição POST\n",
        "url = \"https://httpbin.org/post\"  # Corrigido para endpoint de teste\n",
        "\n",
        "# 2. Parâmetros de formulário (form-data)\n",
        "data = {\n",
        "    \"usuario\": \"Ujeverson\",\n",
        "    \"email\": \"ujeverson@gmail.com\",\n",
        "    \"disciplina\": \"Extração Automatizada de Dados\"\n",
        "}\n",
        "\n",
        "# 3. Cabeçalhos personalizados\n",
        "headers = {\n",
        "    \"User-Agent\": \"Notebook-Colab/1.0\",\n",
        "    \"Content-Type\": \"application/x-www-form-urlencoded\"\n",
        "}\n",
        "\n",
        "# 4. Envio da requisição POST\n",
        "response = requests.post(url, data=data, headers=headers)\n",
        "\n",
        "# 5. Verificação do código de status\n",
        "print(\"Código de Status:\", response.status_code)\n",
        "\n",
        "# 6. Conversão para JSON (com tratamento de erro)\n",
        "try:\n",
        "    resposta_json = response.json()\n",
        "except Exception as e:\n",
        "    print(\"Erro ao converter resposta para JSON:\", e)\n",
        "    print(\"Conteúdo retornado:\", response.text)\n",
        "else:\n",
        "    # 7. Exibição dos campos relevantes\n",
        "    print(\"\\nDados recebidos no campo 'form':\")\n",
        "    print(json.dumps(resposta_json.get(\"form\"), indent=2, ensure_ascii=False))\n",
        "\n",
        "    print(\"\\nCabeçalhos retornados pelo servidor:\")\n",
        "    print(json.dumps(resposta_json.get(\"headers\"), indent=2, ensure_ascii=False))\n",
        "\n",
        "    print(\"\\nURL de destino usada:\")\n",
        "    print(resposta_json.get(\"url\"))"
      ]
    },
    {
      "cell_type": "markdown",
      "metadata": {
        "id": "ebAMj5bpCXpS"
      },
      "source": [
        "### Exercício 1: Consumir API REST com Parâmetros e Autenticação Básica  \n",
        "1. Utilize a biblioteca `requests` para enviar uma requisição GET a uma API pública que exija autenticação básica (por exemplo, `https://httpbin.org/basic-auth/usuario/senha`).  \n",
        "2. Configure os parâmetros de autenticação (`auth=(“usuario”, “senha”)`) e verifique se o retorno é código 200.  \n",
        "3. Extrai e exibe no console o campo `\"authenticated\"` do JSON retornado para confirmar o sucesso da autenticação.\n"
      ]
    },
    {
      "cell_type": "code",
      "execution_count": null,
      "metadata": {
        "id": "j6teZY8-CcnC"
      },
      "outputs": [],
      "source": []
    },
    {
      "cell_type": "markdown",
      "metadata": {
        "id": "6TjLmeESCib7"
      },
      "source": [
        "### Exercício 2: Paginação em API e Agregação de Resultados  \n",
        "1. Identifique uma API que retorne resultados paginados (por exemplo, `https://jsonplaceholder.typicode.com/comments?_page=1&_limit=20`).  \n",
        "2. Usando `requests`, faça requisições sucessivas para obter as N (a ser informado) primeiras páginas de comentários.\n",
        "3. Concatene todos os itens retornados das páginas em uma única lista Python e exiba a quantidade total de itens agregados.\n"
      ]
    },
    {
      "cell_type": "code",
      "execution_count": null,
      "metadata": {
        "id": "WgnPiV9FCxhD"
      },
      "outputs": [],
      "source": []
    },
    {
      "cell_type": "markdown",
      "metadata": {
        "id": "thFXSUTPCyBP"
      },
      "source": [
        "### Exercício 3: Download de Mídia e Salvamento Local  \n",
        "1. Utilize `requests` para baixar uma imagem ou arquivo PDF disponível na web (por exemplo, `https://httpbin.org/image/png`).  \n",
        "2. Implemente tratamento de erros para verificar se o código de status é 200 antes de gravar o conteúdo.  \n",
        "3. Salve o conteúdo binário em um arquivo local (por exemplo, `imagem_exemplo.png` ou `documento_exemplo.pdf`).  \n",
        "4. Verifique e imprima o tamanho (em bytes) do arquivo salvo.\n"
      ]
    },
    {
      "cell_type": "code",
      "execution_count": null,
      "metadata": {
        "id": "4ZgIEOXdCyVr"
      },
      "outputs": [],
      "source": []
    },
    {
      "cell_type": "markdown",
      "metadata": {
        "id": "xzpz-c7bCyr3"
      },
      "source": [
        "### Exercício 4: Uso de Sessões e Cookies para Manter Estado  \n",
        "1. Crie um objeto `Session` de `requests` para simular um fluxo de login simples.  \n",
        "2. Primeiro, faça uma requisição GET a `https://httpbin.org/cookies/set?visita=1` para definir um cookie chamado `visita`.  \n",
        "3. Em seguida, faça nova requisição GET a `https://httpbin.org/cookies` usando a mesma sessão e extraia do JSON o cookie `visita`.  \n",
        "4. Exiba no console o valor desse cookie para comprovar que a sessão manteve o estado.\n"
      ]
    },
    {
      "cell_type": "code",
      "execution_count": null,
      "metadata": {
        "id": "fdsp9zo-Cy97"
      },
      "outputs": [],
      "source": []
    },
    {
      "cell_type": "markdown",
      "metadata": {
        "id": "2DFR10VSDxEj"
      },
      "source": [
        "### Exercício 5: Respeitando o arquivo robots.txt  \n",
        "1. Dado um site de exemplo (por ex.: `https://httpbin.org/robots.txt`), use `requests` para baixar o conteúdo do `robots.txt`.  \n",
        "2. Analise manualmente (ou com auxílio de string parsing) se o user‐agent `\"*\"` está autorizado a acessar uma determinada rota (por ex.: `/delay/3`).  \n",
        "3. Implemente uma função que, antes de fazer qualquer requisição à URL de teste (por ex.: `https://httpbin.org/delay/3`), verifique se ela está permitida.  \n",
        "4. Caso o acesso seja negado pelo `robots.txt`, imprima “Acesso bloqueado por robots.txt” e evite a requisição; caso seja permitido, prossiga normalmente e exiba o código de status.\n"
      ]
    },
    {
      "cell_type": "code",
      "execution_count": null,
      "metadata": {
        "id": "BDb0F9IQDxUc"
      },
      "outputs": [],
      "source": []
    },
    {
      "cell_type": "markdown",
      "metadata": {
        "id": "YN9fWCn9GINy"
      },
      "source": [
        "### Exercício 6: Inserindo Atrasos (Throttle) entre Requisições  \n",
        "**Enunciado:**  \n",
        "1. Crie uma lista com três URLs distintas de um mesmo domínio (por ex.: `https://httpbin.org/get?a=1`, `...?a=2`, `...?a=3`).  \n",
        "2. Utilize `time.sleep()` para aguardar **2 segundos** entre cada requisição.  \n",
        "3. Em cada requisição, registre o horário de início e de término (com `time.time()`) e, ao final, exiba a latência (diferença de tempo) de cada chamada.  \n",
        "4. Garanta que, mesmo se uma requisição falhar, o script aguarde o intervalo antes de tentar a próxima.\n"
      ]
    },
    {
      "cell_type": "code",
      "execution_count": null,
      "metadata": {
        "id": "51R1RYJrGMMx"
      },
      "outputs": [],
      "source": []
    },
    {
      "cell_type": "markdown",
      "metadata": {
        "id": "NEcEb1-IGNMK"
      },
      "source": [
        "### Exercício 7: Implementando Logs Detalhados de Requisições  \n",
        "1. Configure o módulo `logging` do Python para registrar mensagens em um arquivo chamado `scraper.log`.  \n",
        "2. Em cada requisição a um conjunto de URLs (por ex.: três endpoints diferentes de `httpbin.org/get`), registre as seguintes informações:  \n",
        "   - Timestamp de início da requisição  \n",
        "   - URL solicitada  \n",
        "   - Código de status da resposta  \n",
        "   - Tempo total de resposta (em segundos)  \n",
        "3. Caso ocorra algum erro (timeout, conexão recusada, HTTP ≥ 400), capture a exceção e grave no log:  \n",
        "   - Timestamp do erro  \n",
        "   - Tipo de exceção e mensagem de erro  \n",
        "   - URL que originou a falha  \n",
        "4. Ao final, abra e mostre as últimas cinco linhas de `scraper.log` para comprovar que os eventos foram registrados.\n"
      ]
    },
    {
      "cell_type": "code",
      "execution_count": null,
      "metadata": {
        "id": "iIUqTkJrGVDg"
      },
      "outputs": [],
      "source": []
    }
  ],
  "metadata": {
    "colab": {
      "provenance": []
    },
    "kernelspec": {
      "display_name": "Python 3",
      "name": "python3"
    },
    "language_info": {
      "codemirror_mode": {
        "name": "ipython",
        "version": 3
      },
      "file_extension": ".py",
      "mimetype": "text/x-python",
      "name": "python",
      "nbconvert_exporter": "python",
      "pygments_lexer": "ipython3",
      "version": "3.13.2"
    }
  },
  "nbformat": 4,
  "nbformat_minor": 0
}
